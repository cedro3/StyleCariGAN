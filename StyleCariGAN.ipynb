{
  "nbformat": 4,
  "nbformat_minor": 0,
  "metadata": {
    "accelerator": "GPU",
    "colab": {
      "name": "StyleCariGAN",
      "provenance": [],
      "collapsed_sections": [],
      "mount_file_id": "1Fwc7ADSGchjF0Zoiu9G67NoMYAVLyH9a",
      "authorship_tag": "ABX9TyOv9/OOnsRYLrcYsWaTnslD",
      "include_colab_link": true
    },
    "kernelspec": {
      "display_name": "Python 3",
      "name": "python3"
    },
    "language_info": {
      "name": "python"
    }
  },
  "cells": [
    {
      "cell_type": "markdown",
      "metadata": {
        "id": "view-in-github",
        "colab_type": "text"
      },
      "source": [
        "<a href=\"https://colab.research.google.com/github/cedro3/StyleCariGAN/blob/master/StyleCariGAN.ipynb\" target=\"_parent\"><img src=\"https://colab.research.google.com/assets/colab-badge.svg\" alt=\"Open In Colab\"/></a>"
      ]
    },
    {
      "cell_type": "markdown",
      "metadata": {
        "id": "P0JepClHAYTv"
      },
      "source": [
        "### セットアップ"
      ]
    },
    {
      "cell_type": "code",
      "metadata": {
        "id": "f2t5UiYdfsiS"
      },
      "source": [
        "# gpu チェックチェック\n",
        "! nvidia-smi -L\n",
        "\n",
        "# githubからコードを取得\n",
        "! git clone https://github.com/cedro3/StyleCariGAN.git\n",
        "%cd StyleCariGAN\n",
        "\n",
        "# pytorchバージョン変更\n",
        "# ! pip install torch==1.4.0 torchvision==0.5.0\n",
        "\n",
        "# ninjaシステムインストール\n",
        "! wget https://github.com/ninja-build/ninja/releases/download/v1.8.2/ninja-linux.zip\n",
        "! sudo unzip ninja-linux.zip -d /usr/local/bin/\n",
        "! sudo update-alternatives --install /usr/bin/ninja ninja /usr/local/bin/ninja 1 --force\n",
        "\n",
        "# 学習済みパラメータをダウンロード\n",
        "! bash ./download.sh\n",
        "\n",
        "# 画像表示関数の定義\n",
        "import matplotlib.pyplot as plt\n",
        "from PIL import Image\n",
        "import numpy as np\n",
        "import os\n",
        "\n",
        "def display_pic(folder):\n",
        "    fig = plt.figure(figsize=(40, 40))\n",
        "    files = os.listdir(folder)\n",
        "    files = [x for x in files  if x !='.ipynb_checkpoints' ]\n",
        "    files.sort()\n",
        "\n",
        "    for i, file in enumerate(files):\n",
        "        img = Image.open(folder+'/'+file)    \n",
        "        images = np.asarray(img)\n",
        "        ax = fig.add_subplot(8, 8, i+1, xticks=[], yticks=[])\n",
        "        image_plt = np.array(images)\n",
        "        ax.imshow(image_plt)\n",
        "        ax.set_xlabel(file, fontsize=30) \n",
        "        fig.tight_layout()              \n",
        "    plt.show()\n",
        "    plt.close()  "
      ],
      "execution_count": null,
      "outputs": []
    },
    {
      "cell_type": "markdown",
      "metadata": {
        "id": "FtHiCGBB6kfm"
      },
      "source": [
        "### コード本体\n",
        "**examples/sampleフォルダーにある画像ファイルをアニメ化するためのptファイルを作成し、そのptファイルからアニメを生成（６４種類）してexamples/resultsに保存する**\\\n",
        "＊既に、ptファイルや生成したアニメがある場合は、パスします"
      ]
    },
    {
      "cell_type": "code",
      "metadata": {
        "id": "XE6ucjML_uui"
      },
      "source": [
        "# 画像からアニメを生成\n",
        "! python test.py --ckpt ./checkpoint/StyleCariGAN/001000.pt\\\n",
        "                 --input_dir examples/samples\\\n",
        "                 --output_dir examples/results\\\n",
        "                 --invert_images"
      ],
      "execution_count": null,
      "outputs": []
    },
    {
      "cell_type": "markdown",
      "metadata": {
        "id": "soggpzVp7ukd"
      },
      "source": [
        "**display_pic(examples/results/拡張子なしの画像ファイル名）で生成したアニメを表示**"
      ]
    },
    {
      "cell_type": "code",
      "metadata": {
        "id": "qh2pVgm6hOBJ"
      },
      "source": [
        "# 生成したアニメを表示\n",
        "display_pic('examples/results/000')"
      ],
      "execution_count": null,
      "outputs": []
    }
  ]
}